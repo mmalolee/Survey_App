{
 "cells": [
  {
   "cell_type": "code",
   "execution_count": 21,
   "id": "6e5c9f96",
   "metadata": {},
   "outputs": [],
   "source": [
    "import pandas as pd\n",
    "from faker import Faker\n",
    "import numpy as np\n",
    "import seaborn as sns\n",
    "import matplotlib.pyplot as plt\n",
    "\n",
    "fake = Faker('pl_PL')"
   ]
  },
  {
   "cell_type": "markdown",
   "id": "3bdc1f9d",
   "metadata": {},
   "source": [
    "1. Loading data converting '`gender`' and translating to English"
   ]
  },
  {
   "cell_type": "code",
   "execution_count": 22,
   "id": "a3e51f2d",
   "metadata": {},
   "outputs": [],
   "source": [
    "df = pd.read_csv('data.csv', sep=';')"
   ]
  },
  {
   "cell_type": "code",
   "execution_count": 23,
   "id": "79174f9e",
   "metadata": {},
   "outputs": [],
   "source": [
    "df['gender'] = df['gender'].apply(lambda x : 'Female' if x == 1.0  else 'Male')"
   ]
  },
  {
   "cell_type": "code",
   "execution_count": 24,
   "id": "5f3e797d",
   "metadata": {},
   "outputs": [],
   "source": [
    "def edu_replace(df):\n",
    "    if df == 'Wyższe': return 'College'\n",
    "    elif df == 'Średnie': return 'Secondary'\n",
    "    else: return 'Primary'\n",
    "\n",
    "df['edu_level'] = df['edu_level'].apply(edu_replace)"
   ]
  },
  {
   "cell_type": "code",
   "execution_count": 25,
   "id": "c20f4084",
   "metadata": {},
   "outputs": [],
   "source": [
    "def translate_animals(df):\n",
    "    if df == 'Psy': return 'Dogs'\n",
    "    elif df == 'Koty': return 'Cats'\n",
    "    elif df == 'Inne': return 'Other'\n",
    "    elif df == 'Koty i Psy': return 'Cats and Dogs'\n",
    "    else: return 'No preferences'\n",
    "\n",
    "df['fav_animals'] = df['fav_animals'].apply(translate_animals)"
   ]
  },
  {
   "cell_type": "code",
   "execution_count": 26,
   "id": "4e2b0286",
   "metadata": {},
   "outputs": [
    {
     "data": {
      "text/plain": [
       "array([nan, 'Nad wodą', 'W lesie', 'W górach', 'Inne'], dtype=object)"
      ]
     },
     "execution_count": 26,
     "metadata": {},
     "output_type": "execute_result"
    }
   ],
   "source": [
    "df['fav_place'].unique()"
   ]
  },
  {
   "cell_type": "code",
   "execution_count": 27,
   "id": "3fdd8fa1",
   "metadata": {},
   "outputs": [
    {
     "data": {
      "text/plain": [
       "0          Other\n",
       "1           Lake\n",
       "2         Forest\n",
       "3      Mountains\n",
       "4           Lake\n",
       "         ...    \n",
       "135    Mountains\n",
       "136    Mountains\n",
       "137       Forest\n",
       "138         Lake\n",
       "139    Mountains\n",
       "Name: fav_place, Length: 140, dtype: object"
      ]
     },
     "execution_count": 27,
     "metadata": {},
     "output_type": "execute_result"
    }
   ],
   "source": [
    "def translate_fav_place(df):\n",
    "    if df == 'Nad wodą': return 'Lake'\n",
    "    elif df == 'W lesie': return 'Forest'\n",
    "    elif df == 'W górach': return 'Mountains'\n",
    "    elif df == 'No data': return 'No data'\n",
    "    else: return 'Other'\n",
    "\n",
    "df['fav_place'] = df['fav_place'].apply(translate_fav_place)\n",
    "df['fav_place']"
   ]
  },
  {
   "cell_type": "markdown",
   "id": "f939a548",
   "metadata": {},
   "source": [
    "2. Capitalizing values and filling missing values"
   ]
  },
  {
   "cell_type": "code",
   "execution_count": 28,
   "id": "eaa3c3ca",
   "metadata": {},
   "outputs": [],
   "source": [
    "df['sweet_or_salty'] = df['sweet_or_salty'].str.capitalize() \n",
    "df['age'] = df['age'].str.capitalize()\n",
    "df['sweet_or_salty'] = df['sweet_or_salty'].fillna('No data')\n",
    "df['fav_place'] = df['fav_place'].fillna('No data')"
   ]
  },
  {
   "cell_type": "markdown",
   "id": "2e3006ca",
   "metadata": {},
   "source": [
    "3. Creating empty '`name`' column, generating fake names and assigning the data to the column"
   ]
  },
  {
   "cell_type": "code",
   "execution_count": 29,
   "id": "d5a85818",
   "metadata": {},
   "outputs": [],
   "source": [
    "df['name'] = np.nan"
   ]
  },
  {
   "cell_type": "code",
   "execution_count": 30,
   "id": "ae4b892c",
   "metadata": {},
   "outputs": [],
   "source": [
    "f_names = [fake.first_name_female() for x in range(len(df[df['gender'] == 'Female']))]"
   ]
  },
  {
   "cell_type": "code",
   "execution_count": 31,
   "id": "365adfb3",
   "metadata": {},
   "outputs": [
    {
     "name": "stderr",
     "output_type": "stream",
     "text": [
      "C:\\Users\\Ja\\AppData\\Local\\Temp\\ipykernel_11288\\2836971342.py:1: FutureWarning: Setting an item of incompatible dtype is deprecated and will raise an error in a future version of pandas. Value '['Gaja', 'Kalina', 'Inga', 'Nela', 'Agnieszka', 'Dorota', 'Julianna', 'Anita', 'Marcelina', 'Olga', 'Karina', 'Sonia', 'Ewelina', 'Sylwia', 'Adrianna', 'Anastazja', 'Julita', 'Liwia', 'Agnieszka', 'Anita', 'Sylwia', 'Anna Maria', 'Nela', 'Anita', 'Apolonia', 'Agnieszka', 'Malwina', 'Kamila', 'Gaja', 'Janina', 'Nela', 'Sylwia']' has dtype incompatible with float64, please explicitly cast to a compatible dtype first.\n",
      "  df.loc[df[df['gender'] == 'Female'].index, 'name'] = f_names\n"
     ]
    }
   ],
   "source": [
    "df.loc[df[df['gender'] == 'Female'].index, 'name'] = f_names"
   ]
  },
  {
   "cell_type": "code",
   "execution_count": 32,
   "id": "cfc9f5a4",
   "metadata": {},
   "outputs": [],
   "source": [
    "m_names = [fake.first_name_male() for x in range(len(df[df['gender'] == 'Male']))]"
   ]
  },
  {
   "cell_type": "code",
   "execution_count": 33,
   "id": "7e11a963",
   "metadata": {},
   "outputs": [],
   "source": [
    "df.loc[df[df['gender'] == 'Male'].index, 'name'] = m_names"
   ]
  },
  {
   "cell_type": "markdown",
   "id": "9ea7a731",
   "metadata": {},
   "source": [
    "4. Selecting specific columns and saving the transformed data"
   ]
  },
  {
   "cell_type": "code",
   "execution_count": 34,
   "id": "e5d4ad2f",
   "metadata": {},
   "outputs": [],
   "source": [
    "df = df[['name', 'gender', 'age', 'edu_level', 'fav_animals',\n",
    "        'sweet_or_salty', 'fav_place',]]"
   ]
  },
  {
   "cell_type": "code",
   "execution_count": 35,
   "id": "cb442b27",
   "metadata": {},
   "outputs": [],
   "source": [
    "df.to_csv('data_prepared.csv', sep=';', index=False)"
   ]
  }
 ],
 "metadata": {
  "kernelspec": {
   "display_name": "survey_app",
   "language": "python",
   "name": "python3"
  },
  "language_info": {
   "codemirror_mode": {
    "name": "ipython",
    "version": 3
   },
   "file_extension": ".py",
   "mimetype": "text/x-python",
   "name": "python",
   "nbconvert_exporter": "python",
   "pygments_lexer": "ipython3",
   "version": "3.11.11"
  }
 },
 "nbformat": 4,
 "nbformat_minor": 5
}

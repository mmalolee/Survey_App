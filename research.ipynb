{
 "cells": [
  {
   "cell_type": "code",
   "execution_count": 1,
   "id": "6e5c9f96",
   "metadata": {},
   "outputs": [],
   "source": [
    "import pandas as pd\n",
    "from faker import Faker\n",
    "import numpy as np\n",
    "import seaborn as sns\n",
    "import matplotlib.pyplot as plt\n",
    "\n",
    "fake = Faker('pl_PL')"
   ]
  },
  {
   "cell_type": "code",
   "execution_count": 8,
   "id": "a3e51f2d",
   "metadata": {},
   "outputs": [],
   "source": [
    "df = pd.read_csv('data.csv', sep=';')"
   ]
  },
  {
   "cell_type": "code",
   "execution_count": 9,
   "id": "79174f9e",
   "metadata": {},
   "outputs": [],
   "source": [
    "df['gender'] = df['gender'].apply(lambda x : 'Female' if x == 1.0  else 'Male')"
   ]
  },
  {
   "cell_type": "code",
   "execution_count": 10,
   "id": "5f3e797d",
   "metadata": {},
   "outputs": [],
   "source": [
    "def edu_replace(df):\n",
    "    if df == 'Wyższe': return 'College'\n",
    "    elif df == 'Średnie': return 'Secondary'\n",
    "    else: return 'Primary'\n",
    "\n",
    "df['edu_level'] = df['edu_level'].apply(edu_replace)"
   ]
  },
  {
   "cell_type": "code",
   "execution_count": 11,
   "id": "c20f4084",
   "metadata": {},
   "outputs": [],
   "source": [
    "def translate_animals(df):\n",
    "    if df == 'Psy': return 'Dogs'\n",
    "    elif df == 'Koty': return 'Cats'\n",
    "    elif df == 'Inne': return 'Other'\n",
    "    elif df == 'Koty i Psy': return 'Cats and Dogs'\n",
    "    else: return 'No preferences'\n",
    "\n",
    "df['fav_animals'] = df['fav_animals'].apply(translate_animals)"
   ]
  },
  {
   "cell_type": "code",
   "execution_count": 12,
   "id": "eaa3c3ca",
   "metadata": {},
   "outputs": [],
   "source": [
    "df['sweet_or_salty'] = df['sweet_or_salty'].str.capitalize() \n",
    "df['age'] = df['age'].str.capitalize()\n",
    "df['sweet_or_salty'] = df['sweet_or_salty'].fillna('No data')\n",
    "df['fav_place'] = df['fav_place'].fillna('No data')"
   ]
  },
  {
   "cell_type": "code",
   "execution_count": 13,
   "id": "4e2b0286",
   "metadata": {},
   "outputs": [
    {
     "data": {
      "text/plain": [
       "array(['No data', 'Nad wodą', 'W lesie', 'W górach', 'Inne'], dtype=object)"
      ]
     },
     "execution_count": 13,
     "metadata": {},
     "output_type": "execute_result"
    }
   ],
   "source": [
    "df['fav_place'].unique()"
   ]
  },
  {
   "cell_type": "code",
   "execution_count": 14,
   "id": "3fdd8fa1",
   "metadata": {},
   "outputs": [
    {
     "data": {
      "text/plain": [
       "0        No data\n",
       "1           Lake\n",
       "2         Forest\n",
       "3      Mountains\n",
       "4           Lake\n",
       "         ...    \n",
       "135    Mountains\n",
       "136    Mountains\n",
       "137       Forest\n",
       "138         Lake\n",
       "139    Mountains\n",
       "Name: fav_place, Length: 140, dtype: object"
      ]
     },
     "execution_count": 14,
     "metadata": {},
     "output_type": "execute_result"
    }
   ],
   "source": [
    "def translate_fav_place(df):\n",
    "    if df == 'Nad wodą': return 'Lake'\n",
    "    elif df == 'W lesie': return 'Forest'\n",
    "    elif df == 'W górach': return 'Mountains'\n",
    "    elif df == 'No data': return 'No data'\n",
    "    else: return 'Other'\n",
    "\n",
    "df['fav_place'] = df['fav_place'].apply(translate_fav_place)\n",
    "df['fav_place']"
   ]
  },
  {
   "cell_type": "code",
   "execution_count": 15,
   "id": "d5a85818",
   "metadata": {},
   "outputs": [],
   "source": [
    "df['name'] = np.nan"
   ]
  },
  {
   "cell_type": "code",
   "execution_count": 16,
   "id": "ae4b892c",
   "metadata": {},
   "outputs": [],
   "source": [
    "f_names = [fake.first_name_female() for x in range(len(df[df['gender'] == 'Female']))]"
   ]
  },
  {
   "cell_type": "code",
   "execution_count": 19,
   "id": "365adfb3",
   "metadata": {},
   "outputs": [],
   "source": [
    "df.loc[df[df['gender'] == 'Female'].index, 'name'] = f_names"
   ]
  },
  {
   "cell_type": "code",
   "execution_count": 20,
   "id": "cfc9f5a4",
   "metadata": {},
   "outputs": [],
   "source": [
    "m_names = [fake.first_name_male() for x in range(len(df[df['gender'] == 'Male']))]"
   ]
  },
  {
   "cell_type": "code",
   "execution_count": 21,
   "id": "7e11a963",
   "metadata": {},
   "outputs": [],
   "source": [
    "df.loc[df[df['gender'] == 'Male'].index, 'name'] = m_names"
   ]
  },
  {
   "cell_type": "code",
   "execution_count": 22,
   "id": "e5d4ad2f",
   "metadata": {},
   "outputs": [],
   "source": [
    "df = df[['name', 'gender', 'age', 'edu_level', 'fav_animals',\n",
    "        'sweet_or_salty', 'fav_place',]]"
   ]
  },
  {
   "cell_type": "code",
   "execution_count": 24,
   "id": "cb442b27",
   "metadata": {},
   "outputs": [],
   "source": [
    "df.to_csv('data_prepared.csv', sep=';', index=False)"
   ]
  }
 ],
 "metadata": {
  "kernelspec": {
   "display_name": "od_zera_do_ai",
   "language": "python",
   "name": "python3"
  },
  "language_info": {
   "codemirror_mode": {
    "name": "ipython",
    "version": 3
   },
   "file_extension": ".py",
   "mimetype": "text/x-python",
   "name": "python",
   "nbconvert_exporter": "python",
   "pygments_lexer": "ipython3",
   "version": "3.11.11"
  }
 },
 "nbformat": 4,
 "nbformat_minor": 5
}
